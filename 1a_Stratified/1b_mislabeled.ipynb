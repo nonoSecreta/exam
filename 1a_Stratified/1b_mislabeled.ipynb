{
 "cells": [
  {
   "cell_type": "code",
   "execution_count": 5,
   "metadata": {},
   "outputs": [],
   "source": [
    "import os, numpy as np, pandas as pd\n",
    "\n",
    "MODELS = ['FS_PCA_NN', 'RF', 'FS_PCA_QDA', 'FS_PCA_KNN', 'FS_PCA_LR']\n",
    "PROBA_DIR = './output/probabilities'\n",
    "N_FOLDS = 10\n",
    "\n",
    "records = {}  # sample_id -> dict(label, votes[], max_p[], true_p[])\n",
    "\n",
    "for mdl in MODELS:\n",
    "    for fold in range(1, N_FOLDS+1):\n",
    "        arr = np.load(f'{PROBA_DIR}/pred_dist_{mdl}_{fold}.npy')\n",
    "        sid, probs = arr[:,0].astype(int), arr[:,1:]\n",
    "        pred = probs.argmax(1) \n",
    "        maxp = probs.max(1)\n",
    "        for s, p, m in zip(sid, pred, maxp):\n",
    "            r = records.setdefault(s, {'votes':[], 'maxp':[], 'truep':[]})\n",
    "            r['votes'].append(p)\n",
    "            r['maxp'].append(m)\n",
    "            r['probs'] = probs  # 留给后面算 true_p\n"
   ]
  },
  {
   "cell_type": "code",
   "execution_count": 6,
   "metadata": {},
   "outputs": [],
   "source": [
    "df = pd.read_csv('Cancer2025exam.csv')\n",
    "y_true = df.iloc[:,0].values\n",
    "for s, r in records.items():\n",
    "    label = y_true[s] - 1\n",
    "    r['label'] = label\n",
    "    # 用 NN 概率作为 true_p 示例；也可平均\n",
    "    r['truep'] = r['probs'][r['votes'].index(r['votes'][0]), label]\n"
   ]
  },
  {
   "cell_type": "code",
   "execution_count": 10,
   "metadata": {},
   "outputs": [],
   "source": [
    "candidates = []\n",
    "for s, r in records.items():\n",
    "    # a) 五个模型中 ≥4 票都不是真实标签\n",
    "    wrong_votes = sum(v != r['label'] for v in r['votes'])\n",
    "    # b) 平均最大置信度 ≥0.9\n",
    "    mean_maxp = np.mean(r['maxp'])\n",
    "    # c) 对真实标签的概率 ≤0.1\n",
    "    if wrong_votes >= 4 and mean_maxp >= .9 and r['truep'] <= .1:\n",
    "        candidates.append((s, r['label']+1, np.bincount(r['votes']).argmax()+1,\n",
    "                           wrong_votes, mean_maxp))\n"
   ]
  },
  {
   "cell_type": "code",
   "execution_count": 14,
   "metadata": {},
   "outputs": [
    {
     "name": "stdout",
     "output_type": "stream",
     "text": [
      "\n",
      "疑似错标样本（top 10）：\n",
      " sample_id  orig_label  consensus_pred  wrong_votes  mean_maxp\n",
      "      1081           2               1            5   0.902863\n",
      "       492           2               1            5   0.910863\n",
      "      1019           2               1            5   0.927117\n",
      "       587           2               1            5   0.906756\n",
      "       803           2               1            5   0.900030\n",
      "      1561           2               1            5   0.948526\n",
      "       831           2               1            5   0.907399\n",
      "      1076           2               1            5   0.916688\n",
      "      1640           2               1            5   0.908648\n",
      "9 个样本疑似错标\n"
     ]
    }
   ],
   "source": [
    "cand_df = pd.DataFrame(candidates,\n",
    "        columns=['sample_id','orig_label','consensus_pred',\n",
    "                 'wrong_votes','mean_maxp'])\n",
    "print('\\n疑似错标样本（top 10）：')\n",
    "print(cand_df.to_string(index=False))\n",
    "print(cand_df.shape[0], '个样本疑似错标')\n"
   ]
  },
  {
   "cell_type": "code",
   "execution_count": 15,
   "metadata": {},
   "outputs": [
    {
     "data": {
      "text/plain": [
       "Ellipsis"
      ]
     },
     "execution_count": 15,
     "metadata": {},
     "output_type": "execute_result"
    }
   ],
   "source": [
    "from sklearn.manifold import TSNE\n",
    "X = df.iloc[:,1:].values\n",
    "emb = TSNE(n_components=2, perplexity=30, random_state=0).fit_transform(X)\n",
    "...  # 只用 plt.scatter 即可，无需保存\n"
   ]
  },
  {
   "cell_type": "code",
   "execution_count": 16,
   "metadata": {},
   "outputs": [
    {
     "ename": "ModuleNotFoundError",
     "evalue": "No module named 'cleanlab'",
     "output_type": "error",
     "traceback": [
      "\u001b[0;31m---------------------------------------------------------------------------\u001b[0m",
      "\u001b[0;31mModuleNotFoundError\u001b[0m                       Traceback (most recent call last)",
      "Cell \u001b[0;32mIn[16], line 1\u001b[0m\n\u001b[0;32m----> 1\u001b[0m \u001b[38;5;28;01mfrom\u001b[39;00m \u001b[38;5;21;01mcleanlab\u001b[39;00m\u001b[38;5;21;01m.\u001b[39;00m\u001b[38;5;21;01mfilter\u001b[39;00m \u001b[38;5;28;01mimport\u001b[39;00m find_label_issues\n\u001b[1;32m      2\u001b[0m issues \u001b[38;5;241m=\u001b[39m find_label_issues(y\u001b[38;5;241m=\u001b[39my_true, pred_probs\u001b[38;5;241m=\u001b[39mprobs_all_folds, return_indices_ranked_by\u001b[38;5;241m=\u001b[39m\u001b[38;5;124m'\u001b[39m\u001b[38;5;124mself_confidence\u001b[39m\u001b[38;5;124m'\u001b[39m)\n\u001b[1;32m      3\u001b[0m \u001b[38;5;28mprint\u001b[39m(\u001b[38;5;124m'\u001b[39m\u001b[38;5;124mcleanlab 前 20 个问题索引:\u001b[39m\u001b[38;5;124m'\u001b[39m, issues[:\u001b[38;5;241m20\u001b[39m])\n",
      "\u001b[0;31mModuleNotFoundError\u001b[0m: No module named 'cleanlab'"
     ]
    }
   ],
   "source": [
    "from cleanlab.filter import find_label_issues\n",
    "issues = find_label_issues(y=y_true, pred_probs=probs_all_folds, return_indices_ranked_by='self_confidence')\n",
    "print('cleanlab 前 20 个问题索引:', issues[:20])\n"
   ]
  }
 ],
 "metadata": {
  "kernelspec": {
   "display_name": "Python 3",
   "language": "python",
   "name": "python3"
  },
  "language_info": {
   "codemirror_mode": {
    "name": "ipython",
    "version": 3
   },
   "file_extension": ".py",
   "mimetype": "text/x-python",
   "name": "python",
   "nbconvert_exporter": "python",
   "pygments_lexer": "ipython3",
   "version": "3.11.4"
  }
 },
 "nbformat": 4,
 "nbformat_minor": 2
}
